{
 "cells": [
  {
   "cell_type": "code",
   "execution_count": 1,
   "id": "27755d4a",
   "metadata": {},
   "outputs": [],
   "source": [
    "url = \"https://www.fmkorea.com/search.php?mid=politics&category=&search_keyword=%EC%A7%B1%EA%B9%A8&search_target=title_content\""
   ]
  },
  {
   "cell_type": "code",
   "execution_count": 1,
   "id": "33348422",
   "metadata": {},
   "outputs": [],
   "source": [
    "import requests\n",
    "from bs4 import BeautifulSoup\n",
    "import re"
   ]
  },
  {
   "cell_type": "code",
   "execution_count": 12,
   "id": "2886dfa1",
   "metadata": {},
   "outputs": [],
   "source": [
    "html = requests.get(url).text"
   ]
  },
  {
   "cell_type": "code",
   "execution_count": 13,
   "id": "42e4c140",
   "metadata": {},
   "outputs": [],
   "source": [
    "soup = BeautifulSoup(html)"
   ]
  },
  {
   "cell_type": "code",
   "execution_count": 28,
   "id": "957baddb",
   "metadata": {},
   "outputs": [
    {
     "data": {
      "text/plain": [
       "[<td class=\"time\">\t\t\t\t\t\t22:02\t\t\t\t</td>,\n",
       " <td class=\"time\">\t\t\t\t\t\t12:04\t\t\t\t</td>,\n",
       " <td class=\"time\">\t\t\t\t\t2023.07.27\t\t\t\t\t</td>,\n",
       " <td class=\"time\">\t\t\t\t\t2023.07.25\t\t\t\t\t</td>,\n",
       " <td class=\"time\">\t\t\t\t\t2023.07.25\t\t\t\t\t</td>,\n",
       " <td class=\"time\">\t\t\t\t\t2023.07.24\t\t\t\t\t</td>,\n",
       " <td class=\"time\">\t\t\t\t\t2023.07.23\t\t\t\t\t</td>,\n",
       " <td class=\"time\">\t\t\t\t\t2023.07.23\t\t\t\t\t</td>,\n",
       " <td class=\"time\">\t\t\t\t\t2023.07.23\t\t\t\t\t</td>,\n",
       " <td class=\"time\">\t\t\t\t\t2023.07.22\t\t\t\t\t</td>,\n",
       " <td class=\"time\">\t\t\t\t\t2023.07.22\t\t\t\t\t</td>,\n",
       " <td class=\"time\">\t\t\t\t\t2023.07.22\t\t\t\t\t</td>,\n",
       " <td class=\"time\">\t\t\t\t\t2023.07.22\t\t\t\t\t</td>,\n",
       " <td class=\"time\">\t\t\t\t\t2023.07.22\t\t\t\t\t</td>,\n",
       " <td class=\"time\">\t\t\t\t\t2023.07.22\t\t\t\t\t</td>,\n",
       " <td class=\"time\">\t\t\t\t\t2023.07.21\t\t\t\t\t</td>,\n",
       " <td class=\"time\">\t\t\t\t\t2023.07.21\t\t\t\t\t</td>,\n",
       " <td class=\"time\">\t\t\t\t\t2023.07.21\t\t\t\t\t</td>,\n",
       " <td class=\"time\">\t\t\t\t\t2023.07.21\t\t\t\t\t</td>,\n",
       " <td class=\"time\">\t\t\t\t\t2023.07.21\t\t\t\t\t</td>]"
      ]
     },
     "execution_count": 28,
     "metadata": {},
     "output_type": "execute_result"
    }
   ],
   "source": [
    "# times = soup.select(\"td.time\")\n",
    "# times"
   ]
  },
  {
   "cell_type": "code",
   "execution_count": null,
   "id": "63f10c51",
   "metadata": {},
   "outputs": [],
   "source": [
    "page_n = range(4, 377)\n",
    "base_url = \"https://www.fmkorea.com/search.php?mid=politics&search_keyword=%EC%A7%B1%EA%B9%A8&search_target=title_content&page=\"\n",
    "\n",
    "for n in page_n:\n",
    "    page_url = base_url + str(n)\n",
    "    page_html = requests.get(page_url).text\n",
    "    page_soup = BeautifulSoup(page_html)\n",
    "    times = page_soup.select(\"td.time\")"
   ]
  },
  {
   "cell_type": "code",
   "execution_count": 31,
   "id": "48a9b0ec",
   "metadata": {},
   "outputs": [
    {
     "data": {
      "text/plain": [
       "[<td class=\"time\">\t\t\t\t\t2016.07.13\t\t\t\t\t</td>,\n",
       " <td class=\"time\">\t\t\t\t\t2016.07.12\t\t\t\t\t</td>,\n",
       " <td class=\"time\">\t\t\t\t\t2016.07.11\t\t\t\t\t</td>,\n",
       " <td class=\"time\">\t\t\t\t\t2016.07.09\t\t\t\t\t</td>,\n",
       " <td class=\"time\">\t\t\t\t\t2016.07.08\t\t\t\t\t</td>,\n",
       " <td class=\"time\">\t\t\t\t\t2016.05.24\t\t\t\t\t</td>,\n",
       " <td class=\"time\">\t\t\t\t\t2016.04.15\t\t\t\t\t</td>,\n",
       " <td class=\"time\">\t\t\t\t\t2016.04.14\t\t\t\t\t</td>,\n",
       " <td class=\"time\">\t\t\t\t\t2016.02.29\t\t\t\t\t</td>,\n",
       " <td class=\"time\">\t\t\t\t\t2016.02.25\t\t\t\t\t</td>,\n",
       " <td class=\"time\">\t\t\t\t\t2016.02.25\t\t\t\t\t</td>,\n",
       " <td class=\"time\">\t\t\t\t\t2016.02.25\t\t\t\t\t</td>,\n",
       " <td class=\"time\">\t\t\t\t\t2016.02.25\t\t\t\t\t</td>,\n",
       " <td class=\"time\">\t\t\t\t\t2016.02.20\t\t\t\t\t</td>,\n",
       " <td class=\"time\">\t\t\t\t\t2016.02.19\t\t\t\t\t</td>,\n",
       " <td class=\"time\">\t\t\t\t\t2016.02.14\t\t\t\t\t</td>,\n",
       " <td class=\"time\">\t\t\t\t\t2016.02.11\t\t\t\t\t</td>,\n",
       " <td class=\"time\">\t\t\t\t\t2016.02.10\t\t\t\t\t</td>,\n",
       " <td class=\"time\">\t\t\t\t\t2016.02.07\t\t\t\t\t</td>,\n",
       " <td class=\"time\">\t\t\t\t\t2016.02.07\t\t\t\t\t</td>]"
      ]
     },
     "execution_count": 31,
     "metadata": {},
     "output_type": "execute_result"
    }
   ],
   "source": [
    "times"
   ]
  },
  {
   "cell_type": "code",
   "execution_count": null,
   "id": "3045d8fa",
   "metadata": {},
   "outputs": [],
   "source": []
  }
 ],
 "metadata": {
  "kernelspec": {
   "display_name": "Python 3 (ipykernel)",
   "language": "python",
   "name": "python3"
  },
  "language_info": {
   "codemirror_mode": {
    "name": "ipython",
    "version": 3
   },
   "file_extension": ".py",
   "mimetype": "text/x-python",
   "name": "python",
   "nbconvert_exporter": "python",
   "pygments_lexer": "ipython3",
   "version": "3.10.11"
  }
 },
 "nbformat": 4,
 "nbformat_minor": 5
}
